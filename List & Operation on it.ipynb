{
 "cells": [
  {
   "cell_type": "markdown",
   "metadata": {},
   "source": [
    "# List and operation on list"
   ]
  },
  {
   "cell_type": "raw",
   "metadata": {},
   "source": [
    "-> List is one of the sequence Data Structure\n",
    "-> List are the collection of item (number,string and even more)\n",
    "-> List enclosed in []\n",
    "-> Each element in the list has an assigned index value\n",
    "-> Element are seperated by comma\n",
    "-> List are mutable means they can be changed`"
   ]
  },
  {
   "cell_type": "markdown",
   "metadata": {},
   "source": [
    "# List creation"
   ]
  },
  {
   "cell_type": "code",
   "execution_count": 3,
   "metadata": {},
   "outputs": [
    {
     "name": "stdout",
     "output_type": "stream",
     "text": [
      "[55, 'school', 'a', 5]\n",
      "[[1, 2], [4, 5]]\n"
     ]
    }
   ],
   "source": [
    "list1=[]                                               # empty list\n",
    "list2=[1,2,3,4,5]                                      # list of  integer\n",
    "list3=[\"ram\",\"omprakash\",\"shyam\"]                      # list of string\n",
    "list4=[55,\"school\",\"a\",5]\n",
    "list5=[[1,2],[4,5]]                                    # list within list\n",
    "print(list4)\n",
    "print(list5)"
   ]
  },
  {
   "cell_type": "markdown",
   "metadata": {},
   "source": [
    "# List length"
   ]
  },
  {
   "cell_type": "code",
   "execution_count": 4,
   "metadata": {},
   "outputs": [
    {
     "name": "stdout",
     "output_type": "stream",
     "text": [
      "4\n"
     ]
    }
   ],
   "source": [
    "list1=['one','two','three','four']\n",
    "print(len(list1))                   # finding the length of the list"
   ]
  },
  {
   "cell_type": "markdown",
   "metadata": {},
   "source": [
    "# List Append"
   ]
  },
  {
   "cell_type": "code",
   "execution_count": 5,
   "metadata": {},
   "outputs": [
    {
     "name": "stdout",
     "output_type": "stream",
     "text": [
      "['one', 'two', 'three', 'four', 'five']\n"
     ]
    }
   ],
   "source": [
    "#used to add element in the list\n",
    "list1=['one','two','three','four']\n",
    "list1.append('five')                # add 'five' at the end of the list\n",
    "print(list1)"
   ]
  },
  {
   "cell_type": "markdown",
   "metadata": {},
   "source": [
    "# List Insert"
   ]
  },
  {
   "cell_type": "code",
   "execution_count": 6,
   "metadata": {},
   "outputs": [
    {
     "name": "stdout",
     "output_type": "stream",
     "text": [
      "[55, 'school', 'Hello', 'a', 5]\n"
     ]
    }
   ],
   "source": [
    "# used to add element in the list at specific location\n",
    "list1=[55,\"school\",\"a\",5]\n",
    "list1.insert(2,'Hello')        # 'Hello' is added at location 2\n",
    "print(list1)"
   ]
  },
  {
   "cell_type": "markdown",
   "metadata": {},
   "source": [
    "# List Remove"
   ]
  },
  {
   "cell_type": "code",
   "execution_count": 7,
   "metadata": {},
   "outputs": [
    {
     "name": "stdout",
     "output_type": "stream",
     "text": [
      "[1, 2, 3, 4, 7, 5, 8]\n"
     ]
    }
   ],
   "source": [
    "# it will remove the first occurance of number/sting from the list\n",
    "list1=[1,2,3,4,8,7,5,8]\n",
    "list1.remove(8)            # remove the first 8 present at location 4 in the list\n",
    "print(list1)"
   ]
  },
  {
   "cell_type": "markdown",
   "metadata": {},
   "source": [
    "# List Append and Extend"
   ]
  },
  {
   "cell_type": "code",
   "execution_count": 8,
   "metadata": {},
   "outputs": [
    {
     "name": "stdout",
     "output_type": "stream",
     "text": [
      "[1, 2, 3, 4, 'a', 's', 'm']\n",
      "['a', 's', 'm', 1, 2, 3, 4, 'a', 's', 'm']\n"
     ]
    }
   ],
   "source": [
    "# extend is used to join the list\n",
    "lst1=[1,2,3,4]\n",
    "lst2=['a','s','m']\n",
    "lst1.extend(lst2)        # here list2 element are added in list1 \n",
    "print(lst1)\n",
    "lst2.extend(lst1)       # here list1 element are added in list2  \n",
    "print(lst2)"
   ]
  },
  {
   "cell_type": "code",
   "execution_count": 9,
   "metadata": {},
   "outputs": [
    {
     "name": "stdout",
     "output_type": "stream",
     "text": [
      "[1, 2, 3, 4, ['a', 's', 'm']]\n"
     ]
    }
   ],
   "source": [
    "# Append is simply put whole list at end of other list\n",
    "list1=[1,2,3,4]\n",
    "list2=['a','s','m']\n",
    "list1.append(list2)\n",
    "print(list1)"
   ]
  },
  {
   "cell_type": "markdown",
   "metadata": {},
   "source": [
    "# List Delete"
   ]
  },
  {
   "cell_type": "code",
   "execution_count": 11,
   "metadata": {
    "scrolled": true
   },
   "outputs": [
    {
     "name": "stdout",
     "output_type": "stream",
     "text": [
      "[1, 2, 4, 8, 7, 5, 8]\n",
      "[1, 2, 4, 8, 7, 8]\n"
     ]
    }
   ],
   "source": [
    "# del used to remove item based on index position\n",
    "list1=[1,2,3,4,8,7,5,8]\n",
    "del list1[2]\n",
    "print(list1)\n",
    " # We can also use pop method\n",
    "a=list1.pop(5)\n",
    "print(list1)"
   ]
  },
  {
   "cell_type": "markdown",
   "metadata": {},
   "source": [
    "# List related keyword in python"
   ]
  },
  {
   "cell_type": "code",
   "execution_count": 13,
   "metadata": {},
   "outputs": [
    {
     "name": "stdout",
     "output_type": "stream",
     "text": [
      "AI\n",
      "ML\n"
     ]
    }
   ],
   "source": [
    "# keyword 'in' is used to check if an item is present in the list\n",
    "list1=[1,2,3,4,8,7,5,9]\n",
    "if 2 in list1:\n",
    "    print(\"AI\")\n",
    "    \n",
    "# keyword 'not' can be combined with 'in'\n",
    "if 10 not in list1:\n",
    "    print(\"ML\")"
   ]
  },
  {
   "cell_type": "markdown",
   "metadata": {},
   "source": [
    "# List Reverse"
   ]
  },
  {
   "cell_type": "code",
   "execution_count": 14,
   "metadata": {},
   "outputs": [
    {
     "name": "stdout",
     "output_type": "stream",
     "text": [
      "[10, 9, 8, 7, 6, 5, 4, 3, 2, 1]\n"
     ]
    }
   ],
   "source": [
    "# keyword 'reverse' is used to reverse the entire list\n",
    "list1=[1,2,3,4,5,6,7,8,9,10]\n",
    "list1.reverse()\n",
    "print(list1)"
   ]
  },
  {
   "cell_type": "markdown",
   "metadata": {},
   "source": [
    "# List Sorting\n",
    "\n",
    "The easiest way to sort a List is with the sorted(list) function.\n",
    "That takes a list and return a new list in sorted order.\n",
    "The original list is not changed.\n",
    "The sorted() optional argument reverse=True e.g= sorted(list,reverse=True) makes it sort backwords."
   ]
  },
  {
   "cell_type": "code",
   "execution_count": 17,
   "metadata": {},
   "outputs": [
    {
     "name": "stdout",
     "output_type": "stream",
     "text": [
      "[1, 2, 3, 6, 8]\n",
      "[3, 1, 6, 2, 8]\n"
     ]
    }
   ],
   "source": [
    "list1=[3,1,6,2,8]\n",
    "sorted_list=sorted(list1)                  # sorted function does not change the list\n",
    "print(sorted_list)\n",
    "print(list1)                                 # The original list remain unchanged"
   ]
  },
  {
   "cell_type": "code",
   "execution_count": 19,
   "metadata": {},
   "outputs": [
    {
     "name": "stdout",
     "output_type": "stream",
     "text": [
      "Reverse sorted List [8, 6, 3, 2, 1]\n",
      "[3, 1, 6, 2, 8]\n"
     ]
    }
   ],
   "source": [
    "print(\"Reverse sorted List\",sorted(list1,reverse=True))\n",
    "print(list1)"
   ]
  },
  {
   "cell_type": "code",
   "execution_count": 20,
   "metadata": {},
   "outputs": [
    {
     "name": "stdout",
     "output_type": "stream",
     "text": [
      "[1, 2, 3, 6, 8]\n"
     ]
    }
   ],
   "source": [
    "list1=[3,1,6,2,8]\n",
    "list1.sort()\n",
    "print(list1)                     # here the original list change"
   ]
  },
  {
   "cell_type": "code",
   "execution_count": 21,
   "metadata": {},
   "outputs": [
    {
     "ename": "TypeError",
     "evalue": "'<' not supported between instances of 'str' and 'int'",
     "output_type": "error",
     "traceback": [
      "\u001b[1;31m---------------------------------------------------------------------------\u001b[0m",
      "\u001b[1;31mTypeError\u001b[0m                                 Traceback (most recent call last)",
      "\u001b[1;32m<ipython-input-21-5160f4f34f41>\u001b[0m in \u001b[0;36m<module>\u001b[1;34m\u001b[0m\n\u001b[0;32m      1\u001b[0m \u001b[0mlist1\u001b[0m\u001b[1;33m=\u001b[0m\u001b[1;33m[\u001b[0m\u001b[1;36m3\u001b[0m\u001b[1;33m,\u001b[0m\u001b[1;36m1\u001b[0m\u001b[1;33m,\u001b[0m\u001b[1;34m\"b\"\u001b[0m\u001b[1;33m,\u001b[0m\u001b[1;36m2\u001b[0m\u001b[1;33m,\u001b[0m\u001b[1;34m\"a\"\u001b[0m\u001b[1;33m]\u001b[0m\u001b[1;33m\u001b[0m\u001b[1;33m\u001b[0m\u001b[0m\n\u001b[1;32m----> 2\u001b[1;33m \u001b[0mprint\u001b[0m\u001b[1;33m(\u001b[0m\u001b[0mlist1\u001b[0m\u001b[1;33m.\u001b[0m\u001b[0msort\u001b[0m\u001b[1;33m(\u001b[0m\u001b[1;33m)\u001b[0m\u001b[1;33m)\u001b[0m\u001b[1;33m\u001b[0m\u001b[1;33m\u001b[0m\u001b[0m\n\u001b[0m",
      "\u001b[1;31mTypeError\u001b[0m: '<' not supported between instances of 'str' and 'int'"
     ]
    }
   ],
   "source": [
    "list1=[3,1,\"b\",2,\"a\"]           # We can not sort a list of elenemt with different data types\n",
    "print(list1.sort())           "
   ]
  },
  {
   "cell_type": "markdown",
   "metadata": {},
   "source": [
    "# List having multiple referance"
   ]
  },
  {
   "cell_type": "code",
   "execution_count": 23,
   "metadata": {},
   "outputs": [
    {
     "name": "stdout",
     "output_type": "stream",
     "text": [
      "[1, 2, 3, 4, 5, 6]\n"
     ]
    }
   ],
   "source": [
    "list1=[1,2,3,4,5]\n",
    "abc=list1\n",
    "abc.append(6)\n",
    " # print originl list\n",
    "print(list1)    # Here the original list also changed because both abc and list1 pointed to same memory location"
   ]
  },
  {
   "cell_type": "markdown",
   "metadata": {},
   "source": [
    "# String split to create a list"
   ]
  },
  {
   "cell_type": "code",
   "execution_count": 26,
   "metadata": {},
   "outputs": [
    {
     "name": "stdout",
     "output_type": "stream",
     "text": [
      "['one', 'two', 'three', 'four']\n"
     ]
    }
   ],
   "source": [
    "s=\"one,two,three,four\"\n",
    "split_list=s.split(',')\n",
    "print(split_list)"
   ]
  },
  {
   "cell_type": "code",
   "execution_count": 27,
   "metadata": {},
   "outputs": [
    {
     "name": "stdout",
     "output_type": "stream",
     "text": [
      "['this', 'is', 'the', 'basic', 'of', 'list', 'operation']\n"
     ]
    }
   ],
   "source": [
    "s='this is the basic of list operation'\n",
    "split_list=s.split()      # the default split is white-character: space or tab\n",
    "print(split_list)"
   ]
  },
  {
   "cell_type": "markdown",
   "metadata": {},
   "source": [
    "# List Inexing\n",
    "-> Each element in the list has assigned index value starting from 0."
   ]
  },
  {
   "cell_type": "code",
   "execution_count": 28,
   "metadata": {},
   "outputs": [
    {
     "name": "stdout",
     "output_type": "stream",
     "text": [
      "6\n"
     ]
    }
   ],
   "source": [
    "list1=[3,1,6,2,8]\n",
    "print(list1[2])                 # print third element"
   ]
  },
  {
   "cell_type": "code",
   "execution_count": 29,
   "metadata": {},
   "outputs": [
    {
     "name": "stdout",
     "output_type": "stream",
     "text": [
      "2\n"
     ]
    }
   ],
   "source": [
    "# To print last element used negative index\n",
    "list1=[3,1,6,2,8]\n",
    "print(list1[-2])             # print second last element from the list"
   ]
  },
  {
   "cell_type": "markdown",
   "metadata": {},
   "source": [
    "# List Slicing\n",
    "-> Accessing parts of segments is called slicing. "
   ]
  },
  {
   "cell_type": "code",
   "execution_count": 31,
   "metadata": {},
   "outputs": [
    {
     "name": "stdout",
     "output_type": "stream",
     "text": [
      "[10, 20, 30, 40, 50, 60, 70, 80, 90, 100]\n",
      "[10, 20, 30, 40]\n"
     ]
    }
   ],
   "source": [
    "list1=[10,20,30,40,50,60,70,80,90,100]\n",
    "print(list1[:])           # print all element in the list\n",
    "\n",
    "print(list1[0:4])         # print  from index 0 to index 3"
   ]
  },
  {
   "cell_type": "code",
   "execution_count": 32,
   "metadata": {},
   "outputs": [
    {
     "name": "stdout",
     "output_type": "stream",
     "text": [
      "[10, 20, 30, 40, 50, 60, 70, 80, 90, 100]\n",
      "[10, 30, 50, 70, 90]\n",
      "[30, 50, 70, 90]\n"
     ]
    }
   ],
   "source": [
    "print(list1)\n",
    "\n",
    "print(list1[::2])                # print alternate element in a list\n",
    "\n",
    "print(list1[2::2])               # print element start from index 2 to rest of list"
   ]
  },
  {
   "cell_type": "markdown",
   "metadata": {},
   "source": [
    "# List extend using \"+\""
   ]
  },
  {
   "cell_type": "code",
   "execution_count": 33,
   "metadata": {},
   "outputs": [
    {
     "name": "stdout",
     "output_type": "stream",
     "text": [
      "[1, 2, 3, 4, 'welcome', 'om', 'prakash', 'singh']\n"
     ]
    }
   ],
   "source": [
    "list1=[1,2,3,4]\n",
    "list2=[\"welcome\",\"om\",\"prakash\",\"singh\"]\n",
    "print(list1+list2)"
   ]
  },
  {
   "cell_type": "markdown",
   "metadata": {},
   "source": [
    "# List Count"
   ]
  },
  {
   "cell_type": "code",
   "execution_count": 34,
   "metadata": {},
   "outputs": [
    {
     "name": "stdout",
     "output_type": "stream",
     "text": [
      "2\n"
     ]
    }
   ],
   "source": [
    "list1=[1,2,3,1,4,2,5,3]\n",
    "print(list1.count(3))       #count the number of occurance of 3 in the list"
   ]
  },
  {
   "cell_type": "markdown",
   "metadata": {},
   "source": [
    "# List Looping"
   ]
  },
  {
   "cell_type": "code",
   "execution_count": 35,
   "metadata": {},
   "outputs": [
    {
     "name": "stdout",
     "output_type": "stream",
     "text": [
      "one\n",
      "two\n",
      "three\n",
      "four\n",
      "five\n"
     ]
    }
   ],
   "source": [
    "list1=['one','two','three','four','five']\n",
    "for ele in list1:\n",
    "    print(ele)"
   ]
  },
  {
   "cell_type": "markdown",
   "metadata": {},
   "source": [
    "# List Comprehension\n",
    "-> It provide a concise way to create  list.\n",
    "\n",
    "common application are to make new list where each element is the result of some operation applied to each number of another sequence or iterable or to create a subsequences of those element that satisfy a certain condition."
   ]
  },
  {
   "cell_type": "code",
   "execution_count": 36,
   "metadata": {},
   "outputs": [
    {
     "name": "stdout",
     "output_type": "stream",
     "text": [
      "[0, 1, 4, 9, 16, 25, 36, 49, 64, 81]\n"
     ]
    }
   ],
   "source": [
    "list1=[]                  # without lisrt comprehension\n",
    "for i in range(10):\n",
    "    list1.append(i**2)\n",
    "print(list1)"
   ]
  },
  {
   "cell_type": "code",
   "execution_count": 37,
   "metadata": {},
   "outputs": [
    {
     "name": "stdout",
     "output_type": "stream",
     "text": [
      "[0, 1, 4, 9, 16, 25, 36, 49, 64, 81]\n"
     ]
    }
   ],
   "source": [
    "#using list comprehension\n",
    "square=[i**2 for i in range(10)]\n",
    "print(square)"
   ]
  },
  {
   "cell_type": "code",
   "execution_count": 39,
   "metadata": {},
   "outputs": [
    {
     "name": "stdout",
     "output_type": "stream",
     "text": [
      "[-10, -20, 10, 20, 50]\n",
      "[10, 20, 50]\n",
      "[(-10, 100), (-20, 400), (10, 100), (20, 400), (50, 2500)]\n"
     ]
    }
   ],
   "source": [
    "#example\n",
    "\n",
    "list1=[-10,-20,10,20,50]\n",
    "\n",
    "#creating a list with value double\n",
    "double=[i*1 for i in list1]\n",
    "print(double)\n",
    "\n",
    "#Filter the list that exclude negative number\n",
    "new_list=[i for i in list1 if i>0]\n",
    "print(new_list)\n",
    "\n",
    "#Creating a list of tuples\n",
    "list_tup=[(i,i**2) for i in list1]\n",
    "print(list_tup)"
   ]
  },
  {
   "cell_type": "markdown",
   "metadata": {},
   "source": [
    "# Nested list comprehensions"
   ]
  },
  {
   "cell_type": "code",
   "execution_count": 42,
   "metadata": {},
   "outputs": [
    {
     "name": "stdout",
     "output_type": "stream",
     "text": [
      "[[1, 5, 9], [2, 6, 10], [3, 7, 11], [4, 8, 12]]\n"
     ]
    }
   ],
   "source": [
    "matrix=[\n",
    "    [1,2,3,4],\n",
    "    [5,6,7,8],\n",
    "    [9,10,11,12]\n",
    "]\n",
    "transpose=[]\n",
    "for i in range(4):\n",
    "    lst=[]\n",
    "    for row in matrix:\n",
    "        lst.append(row[i])\n",
    "    transpose.append(lst)\n",
    "print(transpose)"
   ]
  },
  {
   "cell_type": "code",
   "execution_count": 43,
   "metadata": {},
   "outputs": [
    {
     "name": "stdout",
     "output_type": "stream",
     "text": [
      "[[1, 5, 9], [2, 6, 10], [3, 7, 11], [4, 8, 12]]\n"
     ]
    }
   ],
   "source": [
    "# with list comprehension\n",
    "transposed=[[row[i]for row in matrix] for i in range(4)]\n",
    "print(transposed)"
   ]
  },
  {
   "cell_type": "code",
   "execution_count": null,
   "metadata": {},
   "outputs": [],
   "source": []
  }
 ],
 "metadata": {
  "kernelspec": {
   "display_name": "Python 3",
   "language": "python",
   "name": "python3"
  },
  "language_info": {
   "codemirror_mode": {
    "name": "ipython",
    "version": 3
   },
   "file_extension": ".py",
   "mimetype": "text/x-python",
   "name": "python",
   "nbconvert_exporter": "python",
   "pygments_lexer": "ipython3",
   "version": "3.7.3"
  }
 },
 "nbformat": 4,
 "nbformat_minor": 2
}
